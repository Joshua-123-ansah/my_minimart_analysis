{
 "cells": [
  {
   "cell_type": "code",
   "execution_count": null,
   "id": "73defccb-03e6-4dee-8846-b99595edf5be",
   "metadata": {},
   "outputs": [],
   "source": [
    "#This code helps know the top 20 items that sales in your supermarket. It can also be used as a model for other stores.\n",
    "#It is available for anyone who wants to perform some analysis for their shop. "
   ]
  },
  {
   "cell_type": "code",
   "execution_count": 8,
   "id": "9e9360a1-197c-4632-873b-6caa7000a3d3",
   "metadata": {},
   "outputs": [],
   "source": [
    "import pandas as pd"
   ]
  },
  {
   "cell_type": "code",
   "execution_count": 14,
   "id": "4e4be38b-e498-47be-ac73-f2b854f1df38",
   "metadata": {},
   "outputs": [],
   "source": [
    "#Here you will load in your excel sheets.\n",
    "\n",
    "files = [\n",
    "    \"November 2024.xlsx\",\n",
    "    \"October 2024.xlsx\",\n",
    "    \"September 2024.xlsx\",\n",
    "    \"December 2024.xlsx\"\n",
    "]"
   ]
  },
  {
   "cell_type": "code",
   "execution_count": 16,
   "id": "83dc2f05-a3a7-4db3-8b74-7fb8d67b07fa",
   "metadata": {},
   "outputs": [],
   "source": [
    "# In the usecols, specific the columns that you want to use to perform your analysis.\n",
    "processed_dataframes = [\n",
    "    pd.read_excel(file, header=1, usecols=['ItemName','Qty Sold']) for file in files\n",
    "]"
   ]
  },
  {
   "cell_type": "code",
   "execution_count": 18,
   "id": "dce9d9e8-a6c1-4c55-92d0-d7178cd38972",
   "metadata": {},
   "outputs": [
    {
     "data": {
      "text/plain": [
       "4"
      ]
     },
     "execution_count": 18,
     "metadata": {},
     "output_type": "execute_result"
    }
   ],
   "source": [
    "len(processed_dataframes)"
   ]
  },
  {
   "cell_type": "code",
   "execution_count": 20,
   "id": "34d37f8f-2232-4fc3-ab4c-6f18e000c1f9",
   "metadata": {},
   "outputs": [],
   "source": [
    "for df in processed_dataframes:\n",
    "    df['Qty Sold'] = pd.to_numeric(df['Qty Sold'], errors='coerce')"
   ]
  },
  {
   "cell_type": "code",
   "execution_count": 22,
   "id": "e711195a-29e7-4ec6-8682-e9ac0eaa1ee2",
   "metadata": {},
   "outputs": [
    {
     "data": {
      "text/html": [
       "<div>\n",
       "<style scoped>\n",
       "    .dataframe tbody tr th:only-of-type {\n",
       "        vertical-align: middle;\n",
       "    }\n",
       "\n",
       "    .dataframe tbody tr th {\n",
       "        vertical-align: top;\n",
       "    }\n",
       "\n",
       "    .dataframe thead th {\n",
       "        text-align: right;\n",
       "    }\n",
       "</style>\n",
       "<table border=\"1\" class=\"dataframe\">\n",
       "  <thead>\n",
       "    <tr style=\"text-align: right;\">\n",
       "      <th></th>\n",
       "      <th>ItemName</th>\n",
       "      <th>Qty Sold</th>\n",
       "    </tr>\n",
       "  </thead>\n",
       "  <tbody>\n",
       "    <tr>\n",
       "      <th>65</th>\n",
       "      <td>ItemName</td>\n",
       "      <td>NaN</td>\n",
       "    </tr>\n",
       "    <tr>\n",
       "      <th>134</th>\n",
       "      <td>ItemName</td>\n",
       "      <td>NaN</td>\n",
       "    </tr>\n",
       "    <tr>\n",
       "      <th>203</th>\n",
       "      <td>ItemName</td>\n",
       "      <td>NaN</td>\n",
       "    </tr>\n",
       "    <tr>\n",
       "      <th>272</th>\n",
       "      <td>ItemName</td>\n",
       "      <td>NaN</td>\n",
       "    </tr>\n",
       "    <tr>\n",
       "      <th>314</th>\n",
       "      <td>NaN</td>\n",
       "      <td>5365.0</td>\n",
       "    </tr>\n",
       "    <tr>\n",
       "      <th>315</th>\n",
       "      <td>NaN</td>\n",
       "      <td>5365.0</td>\n",
       "    </tr>\n",
       "  </tbody>\n",
       "</table>\n",
       "</div>"
      ],
      "text/plain": [
       "     ItemName  Qty Sold\n",
       "65   ItemName       NaN\n",
       "134  ItemName       NaN\n",
       "203  ItemName       NaN\n",
       "272  ItemName       NaN\n",
       "314       NaN    5365.0\n",
       "315       NaN    5365.0"
      ]
     },
     "execution_count": 22,
     "metadata": {},
     "output_type": "execute_result"
    }
   ],
   "source": [
    "#checking for those items that has NaN values\n",
    "nan_rows_in_first = processed_dataframes[2][processed_dataframes[2].isnull().any(axis=1)]\n",
    "nan_rows_in_first.head(30)"
   ]
  },
  {
   "cell_type": "code",
   "execution_count": 24,
   "id": "02d66c11-a673-4849-954b-e29c5f05cdec",
   "metadata": {},
   "outputs": [
    {
     "data": {
      "text/html": [
       "<div>\n",
       "<style scoped>\n",
       "    .dataframe tbody tr th:only-of-type {\n",
       "        vertical-align: middle;\n",
       "    }\n",
       "\n",
       "    .dataframe tbody tr th {\n",
       "        vertical-align: top;\n",
       "    }\n",
       "\n",
       "    .dataframe thead th {\n",
       "        text-align: right;\n",
       "    }\n",
       "</style>\n",
       "<table border=\"1\" class=\"dataframe\">\n",
       "  <thead>\n",
       "    <tr style=\"text-align: right;\">\n",
       "      <th></th>\n",
       "      <th>ItemName</th>\n",
       "      <th>Qty Sold</th>\n",
       "    </tr>\n",
       "  </thead>\n",
       "  <tbody>\n",
       "    <tr>\n",
       "      <th>0</th>\n",
       "      <td>obaapapa oil</td>\n",
       "      <td>9.0</td>\n",
       "    </tr>\n",
       "    <tr>\n",
       "      <th>1</th>\n",
       "      <td>yazz panty liner</td>\n",
       "      <td>2.0</td>\n",
       "    </tr>\n",
       "    <tr>\n",
       "      <th>2</th>\n",
       "      <td>Cold Relief</td>\n",
       "      <td>3.0</td>\n",
       "    </tr>\n",
       "    <tr>\n",
       "      <th>3</th>\n",
       "      <td>cadbury sachet</td>\n",
       "      <td>5.0</td>\n",
       "    </tr>\n",
       "    <tr>\n",
       "      <th>4</th>\n",
       "      <td>Kool-Aid</td>\n",
       "      <td>8.0</td>\n",
       "    </tr>\n",
       "    <tr>\n",
       "      <th>5</th>\n",
       "      <td>Malt n Milk</td>\n",
       "      <td>50.0</td>\n",
       "    </tr>\n",
       "    <tr>\n",
       "      <th>6</th>\n",
       "      <td>madar antiseptic</td>\n",
       "      <td>4.0</td>\n",
       "    </tr>\n",
       "    <tr>\n",
       "      <th>7</th>\n",
       "      <td>Paracetamol UK</td>\n",
       "      <td>4.0</td>\n",
       "    </tr>\n",
       "    <tr>\n",
       "      <th>8</th>\n",
       "      <td>ideal fruity toffee</td>\n",
       "      <td>58.0</td>\n",
       "    </tr>\n",
       "    <tr>\n",
       "      <th>9</th>\n",
       "      <td>Matches</td>\n",
       "      <td>13.0</td>\n",
       "    </tr>\n",
       "  </tbody>\n",
       "</table>\n",
       "</div>"
      ],
      "text/plain": [
       "              ItemName  Qty Sold\n",
       "0         obaapapa oil       9.0\n",
       "1     yazz panty liner       2.0\n",
       "2          Cold Relief       3.0\n",
       "3       cadbury sachet       5.0\n",
       "4             Kool-Aid       8.0\n",
       "5          Malt n Milk      50.0\n",
       "6     madar antiseptic       4.0\n",
       "7       Paracetamol UK       4.0\n",
       "8  ideal fruity toffee      58.0\n",
       "9              Matches      13.0"
      ]
     },
     "execution_count": 24,
     "metadata": {},
     "output_type": "execute_result"
    }
   ],
   "source": [
    "combined_df =pd.concat(processed_dataframes,ignore_index=True)\n",
    "combined_df.head(10)"
   ]
  },
  {
   "cell_type": "code",
   "execution_count": 26,
   "id": "697117c5-d165-4c72-9f31-1c362f4e01ab",
   "metadata": {},
   "outputs": [],
   "source": [
    "#Dropping roles that has NaN at the Qty Sold column\n",
    "combined_df = combined_df.dropna(subset=['Qty Sold'])"
   ]
  },
  {
   "cell_type": "code",
   "execution_count": 28,
   "id": "3b701ec8-bfd1-46fe-92c8-63b7d438710a",
   "metadata": {},
   "outputs": [
    {
     "data": {
      "text/html": [
       "<div>\n",
       "<style scoped>\n",
       "    .dataframe tbody tr th:only-of-type {\n",
       "        vertical-align: middle;\n",
       "    }\n",
       "\n",
       "    .dataframe tbody tr th {\n",
       "        vertical-align: top;\n",
       "    }\n",
       "\n",
       "    .dataframe thead th {\n",
       "        text-align: right;\n",
       "    }\n",
       "</style>\n",
       "<table border=\"1\" class=\"dataframe\">\n",
       "  <thead>\n",
       "    <tr style=\"text-align: right;\">\n",
       "      <th></th>\n",
       "      <th>ItemName</th>\n",
       "      <th>Qty Sold</th>\n",
       "    </tr>\n",
       "  </thead>\n",
       "  <tbody>\n",
       "    <tr>\n",
       "      <th>415</th>\n",
       "      <td>verna water s/s</td>\n",
       "      <td>2188.0</td>\n",
       "    </tr>\n",
       "    <tr>\n",
       "      <th>359</th>\n",
       "      <td>oat choco</td>\n",
       "      <td>816.0</td>\n",
       "    </tr>\n",
       "    <tr>\n",
       "      <th>193</th>\n",
       "      <td>Plastic cup s/s</td>\n",
       "      <td>745.0</td>\n",
       "    </tr>\n",
       "    <tr>\n",
       "      <th>135</th>\n",
       "      <td>Kalyppo</td>\n",
       "      <td>722.0</td>\n",
       "    </tr>\n",
       "    <tr>\n",
       "      <th>305</th>\n",
       "      <td>dewberry biscuit</td>\n",
       "      <td>676.0</td>\n",
       "    </tr>\n",
       "    <tr>\n",
       "      <th>100</th>\n",
       "      <td>FanIce</td>\n",
       "      <td>578.0</td>\n",
       "    </tr>\n",
       "    <tr>\n",
       "      <th>89</th>\n",
       "      <td>Egg</td>\n",
       "      <td>562.0</td>\n",
       "    </tr>\n",
       "    <tr>\n",
       "      <th>192</th>\n",
       "      <td>Plastic cup b/s</td>\n",
       "      <td>540.0</td>\n",
       "    </tr>\n",
       "    <tr>\n",
       "      <th>295</th>\n",
       "      <td>coloured plastic cup</td>\n",
       "      <td>539.0</td>\n",
       "    </tr>\n",
       "    <tr>\n",
       "      <th>404</th>\n",
       "      <td>tomtom</td>\n",
       "      <td>503.0</td>\n",
       "    </tr>\n",
       "    <tr>\n",
       "      <th>210</th>\n",
       "      <td>Slemfit</td>\n",
       "      <td>448.0</td>\n",
       "    </tr>\n",
       "    <tr>\n",
       "      <th>194</th>\n",
       "      <td>Pop toffee</td>\n",
       "      <td>437.0</td>\n",
       "    </tr>\n",
       "    <tr>\n",
       "      <th>27</th>\n",
       "      <td>Biggo</td>\n",
       "      <td>425.0</td>\n",
       "    </tr>\n",
       "    <tr>\n",
       "      <th>414</th>\n",
       "      <td>verna water m/s</td>\n",
       "      <td>408.0</td>\n",
       "    </tr>\n",
       "    <tr>\n",
       "      <th>184</th>\n",
       "      <td>Orient  toffee</td>\n",
       "      <td>382.0</td>\n",
       "    </tr>\n",
       "    <tr>\n",
       "      <th>332</th>\n",
       "      <td>indomie super pack</td>\n",
       "      <td>367.0</td>\n",
       "    </tr>\n",
       "    <tr>\n",
       "      <th>130</th>\n",
       "      <td>Indomie s/s</td>\n",
       "      <td>357.0</td>\n",
       "    </tr>\n",
       "    <tr>\n",
       "      <th>420</th>\n",
       "      <td>welch fruit snack</td>\n",
       "      <td>344.0</td>\n",
       "    </tr>\n",
       "    <tr>\n",
       "      <th>41</th>\n",
       "      <td>Centerfilled gum</td>\n",
       "      <td>340.0</td>\n",
       "    </tr>\n",
       "    <tr>\n",
       "      <th>291</th>\n",
       "      <td>chocomilo cubes</td>\n",
       "      <td>338.0</td>\n",
       "    </tr>\n",
       "  </tbody>\n",
       "</table>\n",
       "</div>"
      ],
      "text/plain": [
       "                 ItemName  Qty Sold\n",
       "415       verna water s/s    2188.0\n",
       "359             oat choco     816.0\n",
       "193       Plastic cup s/s     745.0\n",
       "135               Kalyppo     722.0\n",
       "305      dewberry biscuit     676.0\n",
       "100                FanIce     578.0\n",
       "89                    Egg     562.0\n",
       "192       Plastic cup b/s     540.0\n",
       "295  coloured plastic cup     539.0\n",
       "404                tomtom     503.0\n",
       "210               Slemfit     448.0\n",
       "194            Pop toffee     437.0\n",
       "27                  Biggo     425.0\n",
       "414       verna water m/s     408.0\n",
       "184        Orient  toffee     382.0\n",
       "332    indomie super pack     367.0\n",
       "130           Indomie s/s     357.0\n",
       "420     welch fruit snack     344.0\n",
       "41       Centerfilled gum     340.0\n",
       "291       chocomilo cubes     338.0"
      ]
     },
     "execution_count": 28,
     "metadata": {},
     "output_type": "execute_result"
    }
   ],
   "source": [
    "top_selling_items = (combined_df.groupby('ItemName', as_index=False)['Qty Sold'].sum().sort_values(by='Qty Sold', ascending=False).head(20))\n",
    "top_selling_items"
   ]
  },
  {
   "cell_type": "code",
   "execution_count": 30,
   "id": "50eeb792-adf1-45db-9474-e69dd21e2a65",
   "metadata": {},
   "outputs": [
    {
     "data": {
      "image/png": "[encoded data removed]",
      "text/plain": [
       "<Figure size 1200x800 with 1 Axes>"
      ]
     },
     "metadata": {},
     "output_type": "display_data"
    }
   ],
   "source": [
    "import matplotlib.pyplot as plt\n",
    "\n",
    "# Plot for top selling items\n",
    "plt.figure(figsize=(12, 8))\n",
    "plt.barh(top_selling_items[\"ItemName\"], top_selling_items[\"Qty Sold\"], color='skyblue')\n",
    "plt.xlabel('Quantity Sold', fontsize=14)\n",
    "plt.ylabel('Item Name', fontsize=14)\n",
    "plt.title('Top 20 Selling Items by Quantity Sold', fontsize=16)\n",
    "plt.gca().invert_yaxis()  # Inverting the plot\n",
    "plt.tight_layout()\n",
    "plt.show()"
   ]
  },
  {
   "cell_type": "code",
   "execution_count": null,
   "id": "374ba4ab-bdc6-4176-a902-125a3fb40a84",
   "metadata": {},
   "outputs": [],
   "source": []
  }
 ],
 "metadata": {
  "kernelspec": {
   "display_name": "Python [conda env:base] *",
   "language": "python",
   "name": "conda-base-py"
  },
  "language_info": {
   "codemirror_mode": {
    "name": "ipython",
    "version": 3
   },
   "file_extension": ".py",
   "mimetype": "text/x-python",
   "name": "python",
   "nbconvert_exporter": "python",
   "pygments_lexer": "ipython3",
   "version": "3.12.7"
  }
 },
 "nbformat": 4,
 "nbformat_minor": 5
}
